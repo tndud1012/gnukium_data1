{
  "nbformat": 4,
  "nbformat_minor": 0,
  "metadata": {
    "colab": {
      "provenance": [],
      "toc_visible": true
    },
    "kernelspec": {
      "name": "python3",
      "display_name": "Python 3"
    }
  },
  "cells": [
    {
      "cell_type": "markdown",
      "metadata": {
        "id": "lF1bOoQFuduK"
      },
      "source": [
        "# 6009 : [기초-입출력] 문자 1개 입력받아 그대로 출력하기(설명)(py)"
      ]
    },
    {
      "cell_type": "code",
      "metadata": {
        "colab": {
          "base_uri": "https://localhost:8080/"
        },
        "id": "cT401Km4utBC",
        "outputId": "43dc0991-9903-436e-b2f7-06934ece6968"
      },
      "source": [
        "print('a')\n",
        "print('a')"
      ],
      "execution_count": null,
      "outputs": [
        {
          "output_type": "stream",
          "name": "stdout",
          "text": [
            "a\n",
            "a\n"
          ]
        }
      ]
    },
    {
      "cell_type": "markdown",
      "metadata": {
        "id": "t5bmFHCMmpAR"
      },
      "source": [
        "# 6010 : [기초-입출력] 정수 1개 입력받아 int로 변환하여 출력하기(설명)(py)"
      ]
    },
    {
      "cell_type": "code",
      "metadata": {
        "id": "v23OJ_uQmfpa",
        "colab": {
          "base_uri": "https://localhost:8080/"
        },
        "outputId": "d868e820-49b7-40db-cb04-e358e9e954c5"
      },
      "source": [
        "int(5+5)\n",
        "int(5+5)"
      ],
      "execution_count": null,
      "outputs": [
        {
          "output_type": "execute_result",
          "data": {
            "text/plain": [
              "10"
            ]
          },
          "metadata": {},
          "execution_count": 2
        }
      ]
    },
    {
      "cell_type": "markdown",
      "metadata": {
        "id": "r4b2LiREm8UP"
      },
      "source": [
        "# 6011 : [기초-입출력] 실수 1개 입력받아 변환하여 출력하기(설명)(py)"
      ]
    },
    {
      "cell_type": "code",
      "metadata": {
        "id": "iEWYiib6nBdC",
        "colab": {
          "base_uri": "https://localhost:8080/"
        },
        "outputId": "39c950de-6b41-4c5c-8dc2-58cf026cb6b8"
      },
      "source": [
        "float(1+1)"
      ],
      "execution_count": null,
      "outputs": [
        {
          "output_type": "execute_result",
          "data": {
            "text/plain": [
              "2.0"
            ]
          },
          "metadata": {},
          "execution_count": 4
        }
      ]
    },
    {
      "cell_type": "markdown",
      "metadata": {
        "id": "S96P8demnSMA"
      },
      "source": [
        "# 6012 : [기초-입출력] 정수 2개 입력받아 그대로 출력하기1(설명)(py)"
      ]
    },
    {
      "cell_type": "code",
      "metadata": {
        "id": "mXDHp0N6nXZR",
        "colab": {
          "base_uri": "https://localhost:8080/",
          "height": 54
        },
        "outputId": "530be310-b91a-4e41-d388-dc8d58fd3713"
      },
      "source": [
        "input(1+2)"
      ],
      "execution_count": null,
      "outputs": [
        {
          "name": "stdout",
          "output_type": "stream",
          "text": [
            "3456\n"
          ]
        },
        {
          "output_type": "execute_result",
          "data": {
            "text/plain": [
              "'456'"
            ],
            "application/vnd.google.colaboratory.intrinsic+json": {
              "type": "string"
            }
          },
          "metadata": {},
          "execution_count": 10
        }
      ]
    },
    {
      "cell_type": "markdown",
      "metadata": {
        "id": "U02tSzPVneag"
      },
      "source": [
        "# 6013 : [기초-입출력] 문자 2개 입력받아 순서 바꿔 출력하기1(py)"
      ]
    },
    {
      "cell_type": "code",
      "metadata": {
        "id": "zUNShlyUnjli",
        "colab": {
          "base_uri": "https://localhost:8080/"
        },
        "outputId": "4ba8ff4a-41b8-419e-f169-a4fece0305fa"
      },
      "source": [
        "a=input('문자')\n",
        "b=input('문자')\n",
        "print('b')\n",
        "print('a')"
      ],
      "execution_count": null,
      "outputs": [
        {
          "output_type": "stream",
          "name": "stdout",
          "text": [
            "문자5\n",
            "문자7\n",
            "b\n",
            "a\n"
          ]
        }
      ]
    },
    {
      "cell_type": "markdown",
      "metadata": {
        "id": "jyHZ8rsSnp2I"
      },
      "source": [
        "# 6014 : [기초-입출력] 실수 1개 입력받아 3번 출력하기(py)"
      ]
    },
    {
      "cell_type": "code",
      "metadata": {
        "id": "TQpHdxPmnuA0",
        "colab": {
          "base_uri": "https://localhost:8080/"
        },
        "outputId": "44b210d0-aec0-4b40-b2a8-7231a3600a50"
      },
      "source": [
        "a=float(input('입력하세요:'))\n",
        "b=float(input('입력하세요:'))\n",
        "c=float(input('입력하세요:'))\n",
        "print(a)\n",
        "print(b)\n",
        "print(c)"
      ],
      "execution_count": null,
      "outputs": [
        {
          "output_type": "stream",
          "name": "stdout",
          "text": [
            "입력하세요:1.2\n",
            "입력하세요:5.4\n",
            "입력하세요:6.3\n",
            "1.2\n",
            "5.4\n",
            "6.3\n"
          ]
        }
      ]
    },
    {
      "cell_type": "markdown",
      "metadata": {
        "id": "EDyqb1l9oWug"
      },
      "source": [
        "# 6015 : [기초-입출력] 정수 2개 입력받아 그대로 출력하기2(설명)(py)"
      ]
    },
    {
      "cell_type": "code",
      "metadata": {
        "id": "r4it7ZihobDw",
        "colab": {
          "base_uri": "https://localhost:8080/"
        },
        "outputId": "0aeca639-3f1f-4b9e-ccce-5447a9b8dead"
      },
      "source": [
        "a=int(input('입력하세요:'))\n",
        "b=int(input('입력하세요:'))\n",
        "print(a)\n",
        "print(b)"
      ],
      "execution_count": null,
      "outputs": [
        {
          "output_type": "stream",
          "name": "stdout",
          "text": [
            "입력하세요:4\n",
            "입력하세요:8\n",
            "4\n",
            "8\n"
          ]
        }
      ]
    },
    {
      "cell_type": "markdown",
      "metadata": {
        "id": "b4n0SilcogRa"
      },
      "source": [
        "# 6016 : [기초-입출력] 문자 2개 입력받아 순서 바꿔 출력하기2(설명)(py)"
      ]
    },
    {
      "cell_type": "code",
      "metadata": {
        "id": "lDNooofnOG0H",
        "colab": {
          "base_uri": "https://localhost:8080/"
        },
        "outputId": "e61cbd0d-b93e-472e-80fc-b15a05ac7195"
      },
      "source": [
        "a=input('입력하세요:')\n",
        "b=input('입력하세요:')\n",
        "print(b)\n",
        "print(a)\n"
      ],
      "execution_count": null,
      "outputs": [
        {
          "output_type": "stream",
          "name": "stdout",
          "text": [
            "입력하세요:54\n",
            "입력하세요:85\n",
            "85\n",
            "54\n"
          ]
        }
      ]
    },
    {
      "cell_type": "markdown",
      "metadata": {
        "id": "-u-AanDAOOvH"
      },
      "source": [
        "# 6017 : [기초-입출력] 문장 1개 입력받아 3번 출력하기(설명)(py)"
      ]
    },
    {
      "cell_type": "code",
      "metadata": {
        "id": "9NkKXZNDOShe",
        "colab": {
          "base_uri": "https://localhost:8080/"
        },
        "outputId": "8e8d2567-954c-4c16-fa18-7e6cf461c81f"
      },
      "source": [
        "a=input('입력하세요:')\n",
        "print(a)\n",
        "print(a)\n",
        "print(a)"
      ],
      "execution_count": null,
      "outputs": [
        {
          "output_type": "stream",
          "name": "stdout",
          "text": [
            "입력하세요:5\n",
            "5\n",
            "5\n",
            "5\n"
          ]
        }
      ]
    },
    {
      "cell_type": "markdown",
      "metadata": {
        "id": "H9xgj_kwOdoA"
      },
      "source": [
        "# 6018 : [기초-입출력] 시간 입력받아 그대로 출력하기(설명)(py)"
      ]
    },
    {
      "cell_type": "code",
      "metadata": {
        "id": "AH4pjiguOig9",
        "colab": {
          "base_uri": "https://localhost:8080/"
        },
        "outputId": "162b59bc-23c4-4348-b59f-be721987ec54"
      },
      "source": [
        "a=int(input('시간을입력하시요:'))\n",
        "print(a)"
      ],
      "execution_count": null,
      "outputs": [
        {
          "output_type": "stream",
          "name": "stdout",
          "text": [
            "시간을입력하시요:4\n",
            "4\n"
          ]
        }
      ]
    },
    {
      "cell_type": "markdown",
      "metadata": {
        "id": "JYS-3BetOp-P"
      },
      "source": [
        "# 6019 : [기초-입출력] 연월일 입력받아 순서 바꿔 출력하기(py)"
      ]
    },
    {
      "cell_type": "code",
      "metadata": {
        "id": "bZwa_6C-OxOb",
        "colab": {
          "base_uri": "https://localhost:8080/"
        },
        "outputId": "6798f3b3-1034-4455-b80b-29078efeb9ff"
      },
      "source": [
        "\n",
        "a=int(input('년도을 입력하세요:'))\n",
        "b=int(input('월을입력히세요:'))\n",
        "c=int(input('일을입력히세요:'))\n",
        "print(c)\n",
        "print(b)\n",
        "print(a)"
      ],
      "execution_count": null,
      "outputs": [
        {
          "output_type": "stream",
          "name": "stdout",
          "text": [
            "년도을 입력하세요:2005\n",
            "월을입력히세요:10\n",
            "일을입력히세요:12\n",
            "12\n",
            "10\n",
            "2005\n"
          ]
        }
      ]
    },
    {
      "cell_type": "markdown",
      "metadata": {
        "id": "iow67t1RO9bQ"
      },
      "source": [
        "# 6020 : [기초-입출력] 주민번호 입력받아 형태 바꿔 출력하기(py)"
      ]
    },
    {
      "cell_type": "code",
      "metadata": {
        "id": "og2alovePAbY",
        "colab": {
          "base_uri": "https://localhost:8080/"
        },
        "outputId": "6ce45143-ae01-462a-cc1a-5b6ad27d67ff"
      },
      "source": [
        "a=int(input('주민번호을 입력하시오:'))\n",
        "print(a)"
      ],
      "execution_count": null,
      "outputs": [
        {
          "output_type": "stream",
          "name": "stdout",
          "text": [
            "주민번호을 입력하시오:444448\n",
            "444448\n"
          ]
        }
      ]
    },
    {
      "cell_type": "markdown",
      "metadata": {
        "id": "31aUaTxpPHYk"
      },
      "source": [
        "# 6021 : [기초-입출력] 단어 1개 입력받아 나누어 출력하기(설명)(py)"
      ]
    },
    {
      "cell_type": "code",
      "metadata": {
        "id": "MOJzcNqBPNP3",
        "colab": {
          "base_uri": "https://localhost:8080/"
        },
        "outputId": "92b8dd0c-e0f6-42e9-b9bb-40a9dcaf4472"
      },
      "source": [
        "print(1,2,3,sep='\\n')"
      ],
      "execution_count": null,
      "outputs": [
        {
          "output_type": "stream",
          "name": "stdout",
          "text": [
            "1\n",
            "2\n",
            "3\n"
          ]
        }
      ]
    },
    {
      "cell_type": "markdown",
      "metadata": {
        "id": "C8G5yO9xPT2G"
      },
      "source": [
        "# 6022 : [기초-입출력] 연월일 입력받아 나누어 출력하기(설명)(py)"
      ]
    },
    {
      "cell_type": "code",
      "metadata": {
        "id": "Q4IymnKzPnnO",
        "colab": {
          "base_uri": "https://localhost:8080/"
        },
        "outputId": "95993229-75a3-40c3-a208-b2b11fcf5cbb"
      },
      "source": [
        "s = input()\n",
        "print(s[0:2],s[2:4], s[4:6], sep=' ')"
      ],
      "execution_count": null,
      "outputs": [
        {
          "output_type": "stream",
          "name": "stdout",
          "text": [
            "200304\n",
            "20 03 04\n"
          ]
        }
      ]
    },
    {
      "cell_type": "markdown",
      "metadata": {
        "id": "fxYpTjerPxKh"
      },
      "source": [
        "# 6023 : [기초-입출력] 시분초 입력받아 분만 출력하기(py)"
      ]
    },
    {
      "cell_type": "code",
      "metadata": {
        "id": "opg9Yu3yPyqd",
        "colab": {
          "base_uri": "https://localhost:8080/"
        },
        "outputId": "a640a597-7dff-45d9-a065-51f410e9d9d9"
      },
      "source": [
        "a, b, c = input().split(':')\n",
        "print(b)"
      ],
      "execution_count": null,
      "outputs": [
        {
          "output_type": "stream",
          "name": "stdout",
          "text": [
            "6:00:00\n",
            "00\n"
          ]
        }
      ]
    },
    {
      "cell_type": "markdown",
      "metadata": {
        "id": "jU_1Dhl4P9JL"
      },
      "source": [
        "# 6024 : [기초-입출력] 단어 2개 입력받아 이어 붙이기(설명)(py)"
      ]
    },
    {
      "cell_type": "code",
      "metadata": {
        "id": "uLnCyb1pP-nF",
        "colab": {
          "base_uri": "https://localhost:8080/"
        },
        "outputId": "b469f82b-81cf-4f69-a091-89a9d0cb6db0"
      },
      "source": [
        "\n",
        "a=input('입력하세요:')\n",
        "b=input('입력하세요:')\n",
        "print(a+b)"
      ],
      "execution_count": null,
      "outputs": [
        {
          "output_type": "stream",
          "name": "stdout",
          "text": [
            "입력하세요:안녕하세요\n",
            "입력하세요:반갑습니다\n",
            "안녕하세요반갑습니다\n"
          ]
        }
      ]
    },
    {
      "cell_type": "markdown",
      "metadata": {
        "id": "oPC81MQEQEZT"
      },
      "source": [
        "# 6025 : [기초-값변환] 정수 2개 입력받아 합 계산하기(설명)(py)"
      ]
    },
    {
      "cell_type": "code",
      "metadata": {
        "id": "9avPZNCNQI1b",
        "colab": {
          "base_uri": "https://localhost:8080/"
        },
        "outputId": "7ac641c1-9365-487a-d714-3998162ddaee"
      },
      "source": [
        "a=int(input('입력하세요:'))\n",
        "b=int(input('입력하세요:'))\n",
        "print(a+b)"
      ],
      "execution_count": null,
      "outputs": [
        {
          "output_type": "stream",
          "name": "stdout",
          "text": [
            "입력하세요:8\n",
            "입력하세요:9\n",
            "17\n"
          ]
        }
      ]
    },
    {
      "cell_type": "markdown",
      "metadata": {
        "id": "VFpax3TaQU3K"
      },
      "source": [
        "# 6026 : [기초-값변환] 실수 2개 입력받아 합 계산하기(설명)(py)"
      ]
    },
    {
      "cell_type": "code",
      "metadata": {
        "id": "6_1MOyWzQb-t",
        "colab": {
          "base_uri": "https://localhost:8080/"
        },
        "outputId": "8d14a5e5-206c-4323-f6b1-b5b2f97d48e5"
      },
      "source": [
        "a=int(input('입력하세요:'))\n",
        "b=int(input('입력하세요:'))\n",
        "print(a+b)"
      ],
      "execution_count": null,
      "outputs": [
        {
          "output_type": "stream",
          "name": "stdout",
          "text": [
            "입력하세요:5\n",
            "입력하세요:5\n",
            "10\n"
          ]
        }
      ]
    }
  ]
}